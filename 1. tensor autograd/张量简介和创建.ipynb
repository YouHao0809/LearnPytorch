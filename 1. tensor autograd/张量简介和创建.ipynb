{
 "cells": [
  {
   "cell_type": "markdown",
   "id": "viral-matthew",
   "metadata": {},
   "source": [
    "张量：1.多维数组 2.variable(已经被并入tensor) 用于自动求导"
   ]
  },
  {
   "cell_type": "markdown",
   "id": "civic-oxygen",
   "metadata": {},
   "source": [
    "dtype:数据类型 torch.long torch.float\n",
    "shape:形状\n",
    "device:张量所在设备\n",
    "requires_grad\n",
    "grad\n",
    "grad_fn\n",
    "is_leaf"
   ]
  },
  {
   "cell_type": "markdown",
   "id": "executive-oxide",
   "metadata": {},
   "source": [
    "torch.tensor()\n",
    "功能：从data创建tensor\n",
    "data：数据，可以是list，numpy\n",
    "dtype：数据类型，默认与data的一到device：所在设备，cuda/cpu\n",
    "requires_grad：是否需要梯度\n",
    "pin_memory：是否存于锁页内存 通常为false"
   ]
  },
  {
   "cell_type": "markdown",
   "id": "corrected-latest",
   "metadata": {},
   "source": [
    "### 直接创建"
   ]
  },
  {
   "cell_type": "code",
   "execution_count": 5,
   "id": "satisfied-ordinary",
   "metadata": {},
   "outputs": [
    {
     "name": "stdout",
     "output_type": "stream",
     "text": [
      "tensor([[1., 1., 1.],\n",
      "        [1., 1., 1.],\n",
      "        [1., 1., 1.]], dtype=torch.float64)\n"
     ]
    }
   ],
   "source": [
    "#通过np.array创建\n",
    "import torch\n",
    "import numpy as np\n",
    "#直接创建\n",
    "arr = np.ones((3,3))\n",
    "t = torch.tensor(arr)\n",
    "print(t)"
   ]
  },
  {
   "cell_type": "markdown",
   "id": "ranking-laser",
   "metadata": {},
   "source": [
    "torch.from_numpy(ndarray)\n",
    "功能：从numpy创建tensor\n",
    "注意事项：从torch.from_numpy创建的tensor与原ndarray共享内存，当修改其中一个的数据，另外一个也将会被改动"
   ]
  },
  {
   "cell_type": "code",
   "execution_count": 7,
   "id": "naughty-scotland",
   "metadata": {},
   "outputs": [
    {
     "name": "stdout",
     "output_type": "stream",
     "text": [
      "tensor([[0., 1., 1.],\n",
      "        [1., 1., 1.],\n",
      "        [1., 1., 1.]], dtype=torch.float64)\n",
      "tensor([[0., 1., 1.],\n",
      "        [1., 1., 1.],\n",
      "        [1., 1., 1.]], dtype=torch.float64)\n",
      "[[-1.  1.  1.]\n",
      " [ 1.  1.  1.]\n",
      " [ 1.  1.  1.]]\n"
     ]
    }
   ],
   "source": [
    "t = torch.from_numpy(arr)\n",
    "print(t)\n",
    "arr[0,0] = 0\n",
    "print(t)\n",
    "t[0,0] = -1\n",
    "print(arr)"
   ]
  },
  {
   "cell_type": "markdown",
   "id": "pressed-royalty",
   "metadata": {},
   "source": [
    "### 根据数值创建"
   ]
  },
  {
   "cell_type": "markdown",
   "id": "coral-worst",
   "metadata": {},
   "source": [
    "2.1 torch.zeros()\n",
    "功能：依size创建全0张量\n",
    "size：张量的形状，如（3，3）、（3，224，224） out：输出的张量\n",
    "layout：内存中布局形式，有strided（默认），sparse_coo（稀疏矩阵的时候）等\n",
    "device：所在设备，gpu/cpu\n",
    "requires_grad ：是否需要梯度"
   ]
  },
  {
   "cell_type": "code",
   "execution_count": 9,
   "id": "altered-hobby",
   "metadata": {},
   "outputs": [
    {
     "name": "stdout",
     "output_type": "stream",
     "text": [
      "tensor([[0, 0, 0],\n",
      "        [0, 0, 0],\n",
      "        [0, 0, 0]]) \n",
      " tensor([[0, 0, 0],\n",
      "        [0, 0, 0],\n",
      "        [0, 0, 0]])\n",
      "140586769394432 140586769394432\n"
     ]
    }
   ],
   "source": [
    "out_t = torch.tensor([1])\n",
    "t = torch.zeros((3,3), out = out_t)\n",
    "print(t,'\\n',out_t)\n",
    "# 内存地址也是一样的\n",
    "print(id(t),id(out_t))"
   ]
  },
  {
   "cell_type": "markdown",
   "id": "mobile-stretch",
   "metadata": {},
   "source": [
    "2.2 torch.zeros_like()\n",
    "功能：依input形状创建全0张量\n",
    "intput：创建与input同形状的全0张量 dtype 数据类型\n",
    "layout：内存中布局形式\n",
    "2.3 torch.ones()\n",
    "2.4 torch.ones_like()\n",
    "功能：依input形状创建全1张量\n",
    "2.5 torch.full()\n",
    "2.6 torch.full_like()\n",
    "功能：依input形状创建全0张量 size：张量的形状，如（3，3） fill_value：张量的值"
   ]
  },
  {
   "cell_type": "code",
   "execution_count": 10,
   "id": "partial-agriculture",
   "metadata": {},
   "outputs": [
    {
     "data": {
      "text/plain": [
       "tensor([[8, 8, 8],\n",
       "        [8, 8, 8],\n",
       "        [8, 8, 8]])"
      ]
     },
     "execution_count": 10,
     "metadata": {},
     "output_type": "execute_result"
    }
   ],
   "source": [
    "t = torch.full((3,3),8)\n",
    "t"
   ]
  },
  {
   "cell_type": "markdown",
   "id": "brown-adapter",
   "metadata": {},
   "source": [
    "2.7 torch.arange()\n",
    "功能：创建等差的1维张量\n",
    "注意事项：数值区间为【start，end）start：数列起始值\n",
    "end：数列“结束值\"\n",
    "step：数列公差，默认为1"
   ]
  },
  {
   "cell_type": "code",
   "execution_count": 13,
   "id": "interior-mistress",
   "metadata": {},
   "outputs": [
    {
     "data": {
      "text/plain": [
       "tensor([2, 4, 6, 8])"
      ]
     },
     "execution_count": 13,
     "metadata": {},
     "output_type": "execute_result"
    }
   ],
   "source": [
    "t = torch.arange(2,10,2)\n",
    "t"
   ]
  },
  {
   "cell_type": "markdown",
   "id": "infectious-header",
   "metadata": {},
   "source": [
    "2.8 torch.linspace()\n",
    "功能：创建均分的1维张量\n",
    "注意事项：数值区间为【start，end】start：数列起始值\n",
    "end：数列结束值\n",
    "steps：数列长度"
   ]
  },
  {
   "cell_type": "code",
   "execution_count": 16,
   "id": "defined-newton",
   "metadata": {},
   "outputs": [
    {
     "data": {
      "text/plain": [
       "tensor([ 2.0000,  3.6000,  5.2000,  6.8000,  8.4000, 10.0000])"
      ]
     },
     "execution_count": 16,
     "metadata": {},
     "output_type": "execute_result"
    }
   ],
   "source": [
    "t = torch.linspace(2,10,6)\n",
    "t"
   ]
  },
  {
   "cell_type": "markdown",
   "id": "approved-opinion",
   "metadata": {},
   "source": [
    "2.9 torch.logspace()\n",
    "功能：创建对数均分的1维张量\n",
    "注意事项：长度为steps，底为base\n",
    "start：数列起始值\n",
    "end：数列结束值\n",
    "steps：数列长度\n",
    "base：对数函数的底，默认为10\n",
    "2.10 torch.eye()\n",
    "功能：创建单位对角矩阵（2维张量）注意事项：默认为方阵\n",
    "n：矩阵行数\n",
    "m ：矩阵列数"
   ]
  },
  {
   "cell_type": "code",
   "execution_count": 18,
   "id": "cutting-customs",
   "metadata": {},
   "outputs": [
    {
     "data": {
      "text/plain": [
       "tensor([1.0000e+01, 1.7783e+03, 3.1623e+05, 5.6234e+07, 1.0000e+10])"
      ]
     },
     "execution_count": 18,
     "metadata": {},
     "output_type": "execute_result"
    }
   ],
   "source": [
    "t = torch.logspace(1,10,5)\n",
    "t"
   ]
  },
  {
   "cell_type": "code",
   "execution_count": 20,
   "id": "greatest-lindsay",
   "metadata": {},
   "outputs": [
    {
     "data": {
      "text/plain": [
       "tensor([[1., 0., 0., 0., 0., 0.],\n",
       "        [0., 1., 0., 0., 0., 0.],\n",
       "        [0., 0., 1., 0., 0., 0.]])"
      ]
     },
     "execution_count": 20,
     "metadata": {},
     "output_type": "execute_result"
    }
   ],
   "source": [
    "t = torch.eye(3,6)\n",
    "t"
   ]
  },
  {
   "cell_type": "markdown",
   "id": "comfortable-hostel",
   "metadata": {},
   "source": [
    "### 依概率分布创建张量"
   ]
  },
  {
   "cell_type": "markdown",
   "id": "corporate-bangkok",
   "metadata": {},
   "source": [
    "3.1 torch.normal()\n",
    "功能：生成正态分布（高斯分布）\n",
    "mean：均值\n",
    "std：标准差\n",
    "\n",
    "四种模式：\n",
    "mean为标量，std为标量\n",
    "mean为标量，std为张量\n",
    "mean为张量，std为标量\n",
    "mean为张量，std为张量"
   ]
  },
  {
   "cell_type": "code",
   "execution_count": 23,
   "id": "specialized-female",
   "metadata": {},
   "outputs": [
    {
     "data": {
      "text/plain": [
       "tensor([ 0.4520, -0.0375,  1.3191, -1.0902])"
      ]
     },
     "execution_count": 23,
     "metadata": {},
     "output_type": "execute_result"
    }
   ],
   "source": [
    "#mean标量 std标量\n",
    "t = torch.normal(0.,1.,size=(4,))\n",
    "t"
   ]
  },
  {
   "cell_type": "code",
   "execution_count": 25,
   "id": "three-investing",
   "metadata": {},
   "outputs": [
    {
     "data": {
      "text/plain": [
       "tensor([-0.0701,  2.0102,  2.0279,  2.8081], dtype=torch.float64)"
      ]
     },
     "execution_count": 25,
     "metadata": {},
     "output_type": "execute_result"
    }
   ],
   "source": [
    "#mean张量 std标量\n",
    "mean = torch.arange(1,5,dtype = float)\n",
    "std = 1\n",
    "t = torch.normal(mean,std)\n",
    "t"
   ]
  },
  {
   "cell_type": "markdown",
   "id": "animal-capital",
   "metadata": {},
   "source": [
    "3.2 torch.randn()\n",
    "3.3 torch.randn like() 功能：生成标准正态分布\n",
    "size：张量的形状\n",
    "3.4 torch.rand()\n",
    "3.5 torch.rand like()\n",
    "功能：在区间【0，1）上，生成均匀分布\n",
    "3.6 torch.randint()\n",
    "3.7 torch.randint_like()\n",
    "功能：区间【low，high）生成整数均匀分布size：张量的形状\n",
    "3.8 torch.randperm()\n",
    "功能：生成生成从0到n-1的随机排列n：张量的长度\n",
    "用来生成乱序索引\n",
    "3.9 torch.bernoulli()\n",
    "功能：以input为概率，生成伯努利分布（0-1分布，两点分布）\n",
    "input：概率值"
   ]
  }
 ],
 "metadata": {
  "kernelspec": {
   "display_name": "Python 3",
   "language": "python",
   "name": "python3"
  },
  "language_info": {
   "codemirror_mode": {
    "name": "ipython",
    "version": 3
   },
   "file_extension": ".py",
   "mimetype": "text/x-python",
   "name": "python",
   "nbconvert_exporter": "python",
   "pygments_lexer": "ipython3",
   "version": "3.8.5"
  }
 },
 "nbformat": 4,
 "nbformat_minor": 5
}
