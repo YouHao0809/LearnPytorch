{
 "cells": [
  {
   "cell_type": "markdown",
   "id": "adopted-producer",
   "metadata": {},
   "source": [
    "### 一、张量拼接与切分"
   ]
  },
  {
   "cell_type": "markdown",
   "id": "rural-instrument",
   "metadata": {},
   "source": [
    "1.1 torch.cat()\n",
    "功能：将张量按维度dim进行拼接\n",
    "tensors：张量序列\n",
    "dim：要拼接的维度\n",
    "1.2 torch.stack()\n",
    "功能：在新创建的维度dim上进行拼接\n",
    "tensors：张量序列\n",
    "dim：要拼接的维度\n",
    "\n",
    "cat不会扩张张量维度"
   ]
  },
  {
   "cell_type": "code",
   "execution_count": 3,
   "id": "judicial-animation",
   "metadata": {},
   "outputs": [
    {
     "name": "stdout",
     "output_type": "stream",
     "text": [
      "tensor([[1., 1., 1.],\n",
      "        [1., 1., 1.],\n",
      "        [1., 1., 1.],\n",
      "        [1., 1., 1.]]) \n",
      " tensor([[1., 1., 1., 1., 1., 1.],\n",
      "        [1., 1., 1., 1., 1., 1.]])\n"
     ]
    }
   ],
   "source": [
    "import torch\n",
    "t = torch.ones((2,3))\n",
    "t_0 = torch.cat([t,t],dim=0)\n",
    "t_1 = torch.cat([t,t],dim=1)\n",
    "print(t_0,'\\n',t_1)"
   ]
  },
  {
   "cell_type": "code",
   "execution_count": 23,
   "id": "operating-monitoring",
   "metadata": {},
   "outputs": [
    {
     "name": "stdout",
     "output_type": "stream",
     "text": [
      "tensor([[1., 1., 1.],\n",
      "        [1., 1., 1.]])\n",
      "tensor([[[1., 1., 1., 1.],\n",
      "         [1., 1., 1., 1.],\n",
      "         [1., 1., 1., 1.]],\n",
      "\n",
      "        [[1., 1., 1., 1.],\n",
      "         [1., 1., 1., 1.],\n",
      "         [1., 1., 1., 1.]]])\n",
      "torch.Size([2, 3, 4])\n"
     ]
    }
   ],
   "source": [
    "print(t)\n",
    "t_stack = torch.stack([t,t,t,t],dim=2)\n",
    "print(t_stack)\n",
    "print(t_stack.size())"
   ]
  },
  {
   "cell_type": "markdown",
   "id": "ready-ladder",
   "metadata": {},
   "source": [
    "1.3 torch.chunk()\n",
    "功能：将张量按维度dim进行平均切分\n",
    "返回值：张量列表\n",
    "注意事项：若不能整除，最后一份张量小于其他张量\n",
    "input：要切分的张量\n",
    "chunks：要切分的份数\n",
    "dim：要切分的维度"
   ]
  },
  {
   "cell_type": "code",
   "execution_count": 31,
   "id": "casual-quantum",
   "metadata": {},
   "outputs": [
    {
     "name": "stdout",
     "output_type": "stream",
     "text": [
      "tensor([[[1., 1.],\n",
      "         [1., 1.],\n",
      "         [1., 1.]],\n",
      "\n",
      "        [[1., 1.],\n",
      "         [1., 1.],\n",
      "         [1., 1.]]]) \n",
      " torch.Size([2, 3, 2])\n",
      "tensor([[[1., 1.],\n",
      "         [1., 1.],\n",
      "         [1., 1.]],\n",
      "\n",
      "        [[1., 1.],\n",
      "         [1., 1.],\n",
      "         [1., 1.]]]) \n",
      " torch.Size([2, 3, 2])\n"
     ]
    }
   ],
   "source": [
    "t = torch.chunk(t_stack,3,2)\n",
    "for idx,i in enumerate(t):\n",
    "    print(i,'\\n',i.shape)"
   ]
  },
  {
   "cell_type": "markdown",
   "id": "cheap-gnome",
   "metadata": {},
   "source": [
    "1.4 torch.split()\n",
    "功能：将张量按维度dim进行切分\n",
    "返回值：张量列表\n",
    "tensor：要切分的张量\n",
    "split_size_or_sections：为int时，表示每一份的长度；为list时，按list元素切分\n",
    "dim：要切分的维度"
   ]
  },
  {
   "cell_type": "code",
   "execution_count": 36,
   "id": "japanese-surfing",
   "metadata": {
    "scrolled": true
   },
   "outputs": [
    {
     "name": "stdout",
     "output_type": "stream",
     "text": [
      "tensor([[1., 1.],\n",
      "        [1., 1.]]) \n",
      " torch.Size([2, 2])\n",
      "tensor([[1., 1.],\n",
      "        [1., 1.]]) \n",
      " torch.Size([2, 2])\n",
      "tensor([[1.],\n",
      "        [1.]]) \n",
      " torch.Size([2, 1])\n"
     ]
    }
   ],
   "source": [
    "t = torch.ones((2,5))\n",
    "list_of_t = torch.split(t,[2,2,1],dim=1)\n",
    "for idx,i in enumerate(list_of_t):\n",
    "    print(i,'\\n',i.shape)"
   ]
  },
  {
   "cell_type": "markdown",
   "id": "listed-height",
   "metadata": {},
   "source": [
    "### 张量索引"
   ]
  },
  {
   "cell_type": "markdown",
   "id": "occasional-stream",
   "metadata": {},
   "source": [
    "2.1 torch.index_select()\n",
    "功能：在维度dim上，按index索引数据\n",
    "返回值：依index索引数据拼接的张量\n",
    "input：要索引的张量\n",
    "dim：要索引的维度\n",
    "index：要索引数据的序号"
   ]
  },
  {
   "cell_type": "code",
   "execution_count": 39,
   "id": "mineral-roulette",
   "metadata": {},
   "outputs": [
    {
     "name": "stdout",
     "output_type": "stream",
     "text": [
      "t:\n",
      "tensor([[8, 3, 1],\n",
      "        [2, 4, 7],\n",
      "        [8, 4, 0]])\n",
      "t_select:\n",
      "tensor([[8, 3, 1],\n",
      "        [8, 4, 0]])\n"
     ]
    }
   ],
   "source": [
    "t = torch.randint(0,9,size=(3,3))\n",
    "idx = torch.tensor([0, 2], dtype=torch.long)\n",
    "t_select = torch.index_select(t,dim=0,index=idx)\n",
    "print(\"t:\\n{}\\nt_select:\\n{}\".format(t, t_select))"
   ]
  },
  {
   "cell_type": "markdown",
   "id": "shaped-humanity",
   "metadata": {},
   "source": [
    "2.2 torch.masked_select()\n",
    "功能：按mask中的True进行索引\n",
    "返回值：一维张量\n",
    "input：要索引的张量\n",
    "mask：与input同形状的布尔类型张量"
   ]
  },
  {
   "cell_type": "code",
   "execution_count": 41,
   "id": "appointed-keyboard",
   "metadata": {},
   "outputs": [
    {
     "name": "stdout",
     "output_type": "stream",
     "text": [
      "tensor([[7, 4, 5],\n",
      "        [2, 8, 6],\n",
      "        [8, 1, 6]])\n",
      "tensor([[ True, False,  True],\n",
      "        [False,  True,  True],\n",
      "        [ True, False,  True]])\n",
      "tensor([7, 5, 8, 6, 8, 6])\n"
     ]
    }
   ],
   "source": [
    "t = torch.randint(0,9,size=(3,3))\n",
    "mask = t.ge(5)# ge: greater than or equal //gt le lt\n",
    "print(t)\n",
    "print(mask)\n",
    "t_masked = torch.masked_select(t,mask)\n",
    "print(t_masked)"
   ]
  },
  {
   "cell_type": "markdown",
   "id": "liquid-hydrogen",
   "metadata": {},
   "source": [
    "### 张量变换"
   ]
  },
  {
   "cell_type": "markdown",
   "id": "brazilian-shower",
   "metadata": {},
   "source": [
    "3.1 torch.reshape\n",
    "功能：变换张量形状\n",
    "注意事项：当张量在内存中是连续时，新张量与input共享数据内存\n",
    "input：要变换的张量\n",
    "shape：新张量的形状"
   ]
  },
  {
   "cell_type": "code",
   "execution_count": 42,
   "id": "authorized-corruption",
   "metadata": {},
   "outputs": [
    {
     "data": {
      "text/plain": [
       "tensor([5, 2, 6, 0, 1, 3, 4, 7])"
      ]
     },
     "execution_count": 42,
     "metadata": {},
     "output_type": "execute_result"
    }
   ],
   "source": [
    "t = torch.randperm(8)\n",
    "t"
   ]
  },
  {
   "cell_type": "code",
   "execution_count": 44,
   "id": "accessible-applicant",
   "metadata": {},
   "outputs": [
    {
     "data": {
      "text/plain": [
       "tensor([[5, 2, 6, 0],\n",
       "        [1, 3, 4, 7]])"
      ]
     },
     "execution_count": 44,
     "metadata": {},
     "output_type": "execute_result"
    }
   ],
   "source": [
    "t_reshape = torch.reshape(t,(2,4))\n",
    "t_reshape"
   ]
  },
  {
   "cell_type": "code",
   "execution_count": 45,
   "id": "liable-buffer",
   "metadata": {},
   "outputs": [
    {
     "data": {
      "text/plain": [
       "tensor([[5, 2, 6, 0],\n",
       "        [1, 3, 4, 7]])"
      ]
     },
     "execution_count": 45,
     "metadata": {},
     "output_type": "execute_result"
    }
   ],
   "source": [
    "t_reshape = torch.reshape(t,(-1,4))#-1就是自动计算\n",
    "t_reshape"
   ]
  },
  {
   "cell_type": "code",
   "execution_count": 53,
   "id": "august-prefix",
   "metadata": {},
   "outputs": [
    {
     "name": "stdout",
     "output_type": "stream",
     "text": [
      "tensor([10,  2,  6,  0,  1,  3,  4,  7])\n",
      "tensor([[10,  2,  6,  0],\n",
      "        [ 1,  3,  4,  7]])\n",
      "140565921164096 \n",
      " 140565921440512\n"
     ]
    }
   ],
   "source": [
    "t[0]=10\n",
    "print(t)\n",
    "print(t_reshape)\n",
    "print(id(t),'\\n',id(t_reshape))\n",
    "#id 不一样但是内存确实共享"
   ]
  },
  {
   "cell_type": "markdown",
   "id": "announced-throat",
   "metadata": {},
   "source": [
    "3.2 torch.transpose()功能：交换张量的两个维度\n",
    "input：要变换的张量\n",
    "dim0：要交换的维度\n",
    "dim1：要交换的维度\n",
    "3.3torch.t()\n",
    "功能：2维张量转置，对矩阵而言，等价于torch.transpose(input,0，1)"
   ]
  },
  {
   "cell_type": "code",
   "execution_count": 55,
   "id": "passing-checklist",
   "metadata": {},
   "outputs": [],
   "source": [
    "t = torch.rand((2,3,4))\n",
    "t_transpose = torch.transpose(t,1,2)"
   ]
  },
  {
   "cell_type": "code",
   "execution_count": 58,
   "id": "expanded-liabilities",
   "metadata": {},
   "outputs": [
    {
     "data": {
      "text/plain": [
       "torch.Size([2, 3, 4])"
      ]
     },
     "execution_count": 58,
     "metadata": {},
     "output_type": "execute_result"
    }
   ],
   "source": [
    "t.shape"
   ]
  },
  {
   "cell_type": "code",
   "execution_count": 59,
   "id": "handled-senior",
   "metadata": {},
   "outputs": [
    {
     "data": {
      "text/plain": [
       "torch.Size([2, 4, 3])"
      ]
     },
     "execution_count": 59,
     "metadata": {},
     "output_type": "execute_result"
    }
   ],
   "source": [
    "t_transpose.shape"
   ]
  },
  {
   "cell_type": "markdown",
   "id": "following-registrar",
   "metadata": {},
   "source": [
    "3.4 torch.squeeze()\n",
    "功能：压缩长度为1的维度（轴）\n",
    "dim：若为None，移除所有长度为1的轴；若指定维度，当且仅当该轴长度为1时，可以被移除；\n",
    "3.5 torch.unsqueeze()功能：依据dim扩展维度\n",
    "dim：扩展的维度"
   ]
  },
  {
   "cell_type": "code",
   "execution_count": 61,
   "id": "metallic-dispute",
   "metadata": {},
   "outputs": [
    {
     "name": "stdout",
     "output_type": "stream",
     "text": [
      "torch.Size([2, 3])\n"
     ]
    }
   ],
   "source": [
    "t = torch.rand(1,2,3,1)\n",
    "t_sq = torch.squeeze(t)\n",
    "print(t_sq.shape)"
   ]
  },
  {
   "cell_type": "code",
   "execution_count": 63,
   "id": "floppy-atlanta",
   "metadata": {},
   "outputs": [
    {
     "data": {
      "text/plain": [
       "torch.Size([1, 2, 1, 3, 1])"
      ]
     },
     "execution_count": 63,
     "metadata": {},
     "output_type": "execute_result"
    }
   ],
   "source": [
    "t2 = torch.unsqueeze(t,2)\n",
    "t2.shape"
   ]
  },
  {
   "cell_type": "markdown",
   "id": "pointed-identification",
   "metadata": {},
   "source": [
    "### 张量数学运算"
   ]
  },
  {
   "cell_type": "markdown",
   "id": "nutritional-runner",
   "metadata": {},
   "source": [
    "torch.add()\n",
    "功能：逐元素计算input+alpha*other\n",
    "input：第一个张量\n",
    "alpha：乘项因子\n",
    "other：第二个张量\n",
    "\n",
    "torch.addcdiv() \n",
    "torch.addcmul()"
   ]
  },
  {
   "cell_type": "code",
   "execution_count": 67,
   "id": "operating-ceiling",
   "metadata": {},
   "outputs": [
    {
     "name": "stdout",
     "output_type": "stream",
     "text": [
      "tensor([[-0.1296, -1.6888,  1.6283],\n",
      "        [-0.4191,  0.9729,  0.5654],\n",
      "        [-0.6119,  0.0924, -0.7600]])\n"
     ]
    },
    {
     "data": {
      "text/plain": [
       "tensor([[ 9.8704,  8.3112, 11.6283],\n",
       "        [ 9.5809, 10.9729, 10.5654],\n",
       "        [ 9.3881, 10.0924,  9.2400]])"
      ]
     },
     "execution_count": 67,
     "metadata": {},
     "output_type": "execute_result"
    }
   ],
   "source": [
    "t_0 = torch.randn((3,3))\n",
    "print(t_0)\n",
    "t_1 = torch.ones_like(t_0)\n",
    "t_add = torch.add(t_0,t_1,alpha=10)\n",
    "t_add"
   ]
  },
  {
   "cell_type": "markdown",
   "id": "educational-limit",
   "metadata": {},
   "source": [
    "### 线性回归\n",
    "Linear Regression\n",
    "求解步骤：\n",
    "1. 确定模型\n",
    "2. 选择损失函数\n",
    "3. 求解梯度并更新w，b"
   ]
  },
  {
   "cell_type": "code",
   "execution_count": 73,
   "id": "excited-conjunction",
   "metadata": {},
   "outputs": [],
   "source": [
    "import torch\n",
    "import matplotlib.pyplot as plt\n",
    "torch.manual_seed(10)\n",
    "\n",
    "lr = 0.05  # 学习率\n",
    "\n",
    "# 创建训练数据\n",
    "x = torch.rand(20, 1) * 10  # x data (tensor), shape=(20, 1)\n",
    "y = 2*x + (5 + torch.randn(20, 1))  # y data (tensor), shape=(20, 1)\n",
    "\n",
    "# 构建线性回归参数\n",
    "w = torch.randn((1), requires_grad=True)\n",
    "b = torch.zeros((1), requires_grad=True)"
   ]
  },
  {
   "cell_type": "code",
   "execution_count": null,
   "id": "strange-exception",
   "metadata": {},
   "outputs": [],
   "source": [
    "for iteration in range(1000):\n",
    "\n",
    "    # 前向传播\n",
    "    wx = torch.mul(w, x)\n",
    "    y_pred = torch.add(wx, b)\n",
    "\n",
    "    # 计算 MSE loss\n",
    "    loss = (0.5 * (y - y_pred) ** 2).mean() #0.5为了消掉求导产生的的2\n",
    "\n",
    "    # 反向传播\n",
    "    loss.backward()\n",
    "\n",
    "    # 更新参数\n",
    "    b.data.sub_(lr * b.grad)\n",
    "    w.data.sub_(lr * w.grad)\n",
    "\n",
    "    # 清零张量的梯度   \n",
    "    w.grad.zero_()\n",
    "    b.grad.zero_()\n",
    "\n",
    "    # 绘图\n",
    "    if iteration % 20 == 0:\n",
    "        plt.cla()   # 防止社区版可视化时模型重叠\n",
    "        plt.scatter(x.data.numpy(), y.data.numpy())\n",
    "        plt.plot(x.data.numpy(), y_pred.data.numpy(), 'r-', lw=5)\n",
    "        plt.text(2, 20, 'Loss=%.4f' % loss.data.numpy(), fontdict={'size': 20, 'color':  'red'})\n",
    "        plt.xlim(1.5, 10)\n",
    "        plt.ylim(8, 28)\n",
    "        plt.title(\"Iteration: {}\\nw: {} b: {}\".format(iteration, w.data.numpy(), b.data.numpy()))\n",
    "        plt.pause(0.5)\n",
    "\n",
    "        if loss.data.numpy() < 1:\n",
    "            break\n",
    "    plt.show()"
   ]
  }
 ],
 "metadata": {
  "kernelspec": {
   "display_name": "Python 3",
   "language": "python",
   "name": "python3"
  },
  "language_info": {
   "codemirror_mode": {
    "name": "ipython",
    "version": 3
   },
   "file_extension": ".py",
   "mimetype": "text/x-python",
   "name": "python",
   "nbconvert_exporter": "python",
   "pygments_lexer": "ipython3",
   "version": "3.8.5"
  }
 },
 "nbformat": 4,
 "nbformat_minor": 5
}
