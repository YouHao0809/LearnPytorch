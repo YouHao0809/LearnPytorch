{
 "cells": [
  {
   "cell_type": "markdown",
   "id": "imposed-warner",
   "metadata": {},
   "source": [
    "### 计算图"
   ]
  },
  {
   "cell_type": "markdown",
   "id": "automotive-cowboy",
   "metadata": {},
   "source": [
    "计算图是用来描述运算的有向无环图\n",
    "\n",
    "计算图有两个主要元素：结点（Node）和边（Edge）\n",
    "\n",
    "结点表示数据，如向量，矩阵，张量\n",
    "\n",
    "边表示运算，如加减乘除卷积等"
   ]
  },
  {
   "cell_type": "markdown",
   "id": "serious-laugh",
   "metadata": {},
   "source": [
    "y对w求导就是 y到w所有路径导数的和"
   ]
  },
  {
   "cell_type": "code",
   "execution_count": 4,
   "id": "christian-festival",
   "metadata": {},
   "outputs": [
    {
     "name": "stdout",
     "output_type": "stream",
     "text": [
      "tensor([5.])\n"
     ]
    }
   ],
   "source": [
    "import torch\n",
    "\n",
    "w = torch.tensor([1.],requires_grad = True)\n",
    "x = torch.tensor([2.],requires_grad = True)\n",
    "\n",
    "a = torch.add(w,x)\n",
    "#保存非叶子节点梯度\n",
    "a.retain_grad()\n",
    "b = torch.add(w,1)\n",
    "y = torch.mul(a,b)\n",
    "\n",
    "y.backward()\n",
    "print(w.grad)"
   ]
  },
  {
   "cell_type": "code",
   "execution_count": 5,
   "id": "marine-business",
   "metadata": {},
   "outputs": [
    {
     "name": "stdout",
     "output_type": "stream",
     "text": [
      "True False\n"
     ]
    }
   ],
   "source": [
    "#张量是否为叶子节点\n",
    "print(w.is_leaf,a.is_leaf)"
   ]
  },
  {
   "cell_type": "code",
   "execution_count": 6,
   "id": "spiritual-brief",
   "metadata": {},
   "outputs": [
    {
     "name": "stdout",
     "output_type": "stream",
     "text": [
      "tensor([2.]) None\n"
     ]
    },
    {
     "name": "stderr",
     "output_type": "stream",
     "text": [
      "<ipython-input-6-1c21a5ded1b8>:1: UserWarning: The .grad attribute of a Tensor that is not a leaf Tensor is being accessed. Its .grad attribute won't be populated during autograd.backward(). If you indeed want the gradient for a non-leaf Tensor, use .retain_grad() on the non-leaf Tensor. If you access the non-leaf Tensor by mistake, make sure you access the leaf Tensor instead. See github.com/pytorch/pytorch/pull/30531 for more informations.\n",
      "  print(a.grad,b.grad)\n"
     ]
    }
   ],
   "source": [
    "print(a.grad,b.grad)"
   ]
  },
  {
   "cell_type": "code",
   "execution_count": 7,
   "id": "junior-brunei",
   "metadata": {},
   "outputs": [
    {
     "data": {
      "text/plain": [
       "<MulBackward0 at 0x7fdf366adca0>"
      ]
     },
     "execution_count": 7,
     "metadata": {},
     "output_type": "execute_result"
    }
   ],
   "source": [
    "y.grad_fn"
   ]
  },
  {
   "cell_type": "code",
   "execution_count": 8,
   "id": "prerequisite-responsibility",
   "metadata": {},
   "outputs": [
    {
     "data": {
      "text/plain": [
       "<AddBackward0 at 0x7fdf35f56d00>"
      ]
     },
     "execution_count": 8,
     "metadata": {},
     "output_type": "execute_result"
    }
   ],
   "source": [
    "a.grad_fn"
   ]
  },
  {
   "cell_type": "code",
   "execution_count": 9,
   "id": "previous-circumstances",
   "metadata": {},
   "outputs": [
    {
     "data": {
      "text/plain": [
       "<AddBackward0 at 0x7fdf35f56070>"
      ]
     },
     "execution_count": 9,
     "metadata": {},
     "output_type": "execute_result"
    }
   ],
   "source": [
    "b.grad_fn"
   ]
  },
  {
   "cell_type": "markdown",
   "id": "settled-oregon",
   "metadata": {},
   "source": [
    "### 动态图"
   ]
  },
  {
   "cell_type": "markdown",
   "id": "manufactured-pitch",
   "metadata": {},
   "source": [
    "动态图：运算与搭建同时进行 灵活容易调节\n",
    "\n",
    "静态图：先搭建图，后运算 高效不灵活"
   ]
  }
 ],
 "metadata": {
  "kernelspec": {
   "display_name": "Python 3",
   "language": "python",
   "name": "python3"
  },
  "language_info": {
   "codemirror_mode": {
    "name": "ipython",
    "version": 3
   },
   "file_extension": ".py",
   "mimetype": "text/x-python",
   "name": "python",
   "nbconvert_exporter": "python",
   "pygments_lexer": "ipython3",
   "version": "3.8.5"
  }
 },
 "nbformat": 4,
 "nbformat_minor": 5
}
