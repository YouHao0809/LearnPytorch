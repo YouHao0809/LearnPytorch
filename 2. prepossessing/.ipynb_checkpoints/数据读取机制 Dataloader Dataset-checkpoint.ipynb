{
 "cells": [
  {
   "cell_type": "markdown",
   "id": "considerable-winner",
   "metadata": {},
   "source": [
    "数据收集\n",
    "\n",
    "数据划分\n",
    "\n",
    "数据读取 DataLoader （Sampler Dataset）\n",
    "\n",
    "数据预处理"
   ]
  },
  {
   "cell_type": "markdown",
   "id": "sharing-package",
   "metadata": {},
   "source": [
    "torch.utils.data.DataLoader\n",
    "\n",
    "功能：构建可迭代的数据装载器\n",
    "\n",
    "dataset： Dataset类，决定数据从哪读取及如何读取\n",
    "\n",
    "batchsize：批大小\n",
    "\n",
    "num_works：是否多进程读取数据shuffle：每个epoch是否乱序\n",
    "\n",
    "drop_last：当样本数不能被batchsize整除时，是否舍弃最后一批数据"
   ]
  },
  {
   "cell_type": "code",
   "execution_count": null,
   "id": "behavioral-central",
   "metadata": {},
   "outputs": [],
   "source": []
  }
 ],
 "metadata": {
  "kernelspec": {
   "display_name": "Python 3",
   "language": "python",
   "name": "python3"
  },
  "language_info": {
   "codemirror_mode": {
    "name": "ipython",
    "version": 3
   },
   "file_extension": ".py",
   "mimetype": "text/x-python",
   "name": "python",
   "nbconvert_exporter": "python",
   "pygments_lexer": "ipython3",
   "version": "3.8.5"
  }
 },
 "nbformat": 4,
 "nbformat_minor": 5
}
